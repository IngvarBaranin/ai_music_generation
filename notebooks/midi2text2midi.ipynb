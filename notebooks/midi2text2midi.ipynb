{
 "cells": [
  {
   "cell_type": "code",
   "execution_count": 2,
   "metadata": {},
   "outputs": [],
   "source": [
    "from music21 import *\n",
    "import os "
   ]
  },
  {
   "cell_type": "code",
   "execution_count": 3,
   "metadata": {},
   "outputs": [],
   "source": [
    "def open_midi(midi_path):\n",
    "    mf = converter.parse(midi_path)\n",
    "    return mf"
   ]
  },
  {
   "cell_type": "code",
   "execution_count": 5,
   "metadata": {},
   "outputs": [],
   "source": [
    "mf = open_midi('C:/Users/PC/Desktop/Music Generation/dataset/1_WorldRunner.mid')"
   ]
  },
  {
   "cell_type": "code",
   "execution_count": 6,
   "metadata": {},
   "outputs": [
    {
     "data": {
      "text/html": [
       "\n",
       "                <div id='midiPlayerDiv14822'></div>\n",
       "                <link rel=\"stylesheet\" href=\"//cuthbertLab.github.io/music21j/css/m21.css\"\n",
       "                    type=\"text/css\" />\n",
       "                <script>\n",
       "                require.config({\n",
       "                    paths: {'music21': '//cuthbertLab.github.io/music21j/src/music21'}\n",
       "                });\n",
       "                require(['music21'], function() {\n",
       "                               mp = new music21.miditools.MidiPlayer();\n",
       "                               mp.addPlayer('#midiPlayerDiv14822');\n",
       "                               mp.base64Load('data:audio/midi;base64,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');\n",
       "                        });\n",
       "                </script>"
      ],
      "text/plain": [
       "<IPython.core.display.HTML object>"
      ]
     },
     "metadata": {},
     "output_type": "display_data"
    }
   ],
   "source": [
    "# Play midi file\n",
    "mf.show(\"midi\")"
   ]
  },
  {
   "cell_type": "code",
   "execution_count": 7,
   "metadata": {},
   "outputs": [],
   "source": [
    "# mf.show() # Display sheet music in musescore"
   ]
  },
  {
   "cell_type": "code",
   "execution_count": 8,
   "metadata": {},
   "outputs": [],
   "source": [
    "# Check if there are notes which should have ended before given offset\n",
    "def checkForNoteOffEvent(currentOffset, noteOffEvents):\n",
    "    notesToEnd = []\n",
    "    \n",
    "    for noteOffEvent in noteOffEvents: # for (notename, endingOffset)\n",
    "        if noteOffEvent[1] <= currentOffset:\n",
    "            notesToEnd.append(noteOffEvent)\n",
    "            \n",
    "    return notesToEnd"
   ]
  },
  {
   "cell_type": "code",
   "execution_count": 9,
   "metadata": {},
   "outputs": [],
   "source": [
    "# Restricts possible velocities to 8 values, keeping the number of unique note events smaller\n",
    "# Resembles ppp, pp, p, mp, mf, f, ff, fff dynamics \n",
    "def vModifier(velocity):\n",
    "    if (velocity == 0):\n",
    "        return 0\n",
    "    \n",
    "    velocity = min(127, ((velocity // 16) + 1) * 16)\n",
    "    return velocity\n",
    "\n",
    "def tModifier(tempo):\n",
    "    if (tempo == 0):\n",
    "        return 0\n",
    "    \n",
    "    tempo = ((tempo // 10) + 1) * 10\n",
    "    return tempo"
   ]
  },
  {
   "cell_type": "code",
   "execution_count": 10,
   "metadata": {
    "scrolled": true
   },
   "outputs": [],
   "source": [
    "# Access midifile with Parts merged together with correct offsets\n",
    "\n",
    "def midi2text(midifile):\n",
    "    previousElementOffset = 0.0\n",
    "    offsetChanged = False\n",
    "\n",
    "    tempoRetrieved = False\n",
    "    timeSigRetrieved = False\n",
    "\n",
    "    tokens = []\n",
    "    noteOffEvents = []\n",
    "\n",
    "    tokens.append(\"START\")\n",
    "\n",
    "    for element in midifile.flat.elements:\n",
    "        #print(type(element))\n",
    "\n",
    "        currentElementOffset = element.offset\n",
    "\n",
    "        notesToEnd = checkForNoteOffEvent(currentElementOffset, noteOffEvents)\n",
    "\n",
    "        if (len(notesToEnd) != 0):\n",
    "            for noteToEnd in notesToEnd:\n",
    "                if (noteToEnd[1] - previousElementOffset > 0):\n",
    "                    tokens.append(\"wait:\" + str(round(float(noteToEnd[1] - previousElementOffset), 3)))\n",
    "                    previousElementOffset = noteToEnd[1]\n",
    "                tokens.append(\"note:\" + str(noteToEnd[0]) + \":OFF\")\n",
    "                noteOffEvents.remove(noteToEnd)\n",
    "\n",
    "        # If offset has increased and we're looking at new notes, add a wait event before adding the new notes\n",
    "        if (currentElementOffset != previousElementOffset and (isinstance(element, note.Note) or isinstance(element, chord.Chord))):\n",
    "            offsetChanged = True\n",
    "            tokens.append(\"wait:\" + str(round(float(currentElementOffset - previousElementOffset), 3)))\n",
    "\n",
    "        if (isinstance(element, tempo.MetronomeMark) and not tempoRetrieved):\n",
    "            tempoRetrieved = True\n",
    "            tokens.append(\"tempo:\" + str(tModifier(element.number)))\n",
    "\n",
    "        if (isinstance(element, meter.TimeSignature) and not timeSigRetrieved):\n",
    "            timeSigRetrieved = True\n",
    "            tokens.append(\"timesig:\" + str(element.ratioString))\n",
    "\n",
    "        if (isinstance(element, note.Note)): # This is a note event, add a token for this note\n",
    "            tokens.append(\"note:\" + str(element.pitch) + \":v\" + str(vModifier(element.volume.velocity)))\n",
    "            noteOffEvents.append((str(element.pitch), round(float(currentElementOffset + element.duration.quarterLength), 3)))\n",
    "\n",
    "        if (isinstance(element, chord.Chord)): # This is a chord event, add a token for each note in chord\n",
    "            for chordnote in element: \n",
    "                tokens.append(\"note:\" + str(chordnote.pitch) + \":v\" + str(vModifier(element.volume.velocity)))\n",
    "                noteOffEvents.append((str(chordnote.pitch), round(float(currentElementOffset + element.duration.quarterLength), 3)))\n",
    "\n",
    "        if (offsetChanged):\n",
    "            previousElementOffset = currentElementOffset\n",
    "            offsetChanged = False\n",
    "\n",
    "    # Finally make sure that all notes that end after the offset of the last element of mf.flat.elements are given an off event.\n",
    "    for noteToEnd in noteOffEvents.copy():\n",
    "        if (previousElementOffset - noteToEnd[1] != 0):\n",
    "            tokens.append(\"wait:\" + str(round(float(noteToEnd[1] - currentElementOffset), 3)))\n",
    "            previousElementOffset = noteToEnd[1]\n",
    "        tokens.append(\"note:\" + str(noteToEnd[0]) + \":OFF\")\n",
    "        noteOffEvents.remove(noteToEnd)\n",
    "        \n",
    "    if (len(noteOffEvents) != 0):\n",
    "        print(\"Not all notes have note-off events\")\n",
    "\n",
    "    tokens.append(\"END\")\n",
    "    return tokens\n",
    "\n",
    "midiTokens = midi2text(mf)"
   ]
  },
  {
   "cell_type": "code",
   "execution_count": 11,
   "metadata": {},
   "outputs": [
    {
     "data": {
      "text/html": [
       "\n",
       "                <div id='midiPlayerDiv16836'></div>\n",
       "                <link rel=\"stylesheet\" href=\"//cuthbertLab.github.io/music21j/css/m21.css\"\n",
       "                    type=\"text/css\" />\n",
       "                <script>\n",
       "                require.config({\n",
       "                    paths: {'music21': '//cuthbertLab.github.io/music21j/src/music21'}\n",
       "                });\n",
       "                require(['music21'], function() {\n",
       "                               mp = new music21.miditools.MidiPlayer();\n",
       "                               mp.addPlayer('#midiPlayerDiv16836');\n",
       "                               mp.base64Load('data:audio/midi;base64,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');\n",
       "                        });\n",
       "                </script>"
      ],
      "text/plain": [
       "<IPython.core.display.HTML object>"
      ]
     },
     "metadata": {},
     "output_type": "display_data"
    }
   ],
   "source": [
    "def text2midi(tokens):\n",
    "    s = stream.Stream()\n",
    "\n",
    "    currentOffset = 0\n",
    "    currentToken = 0\n",
    "\n",
    "    for token in tokens:\n",
    "\n",
    "        splitToken = token.split(\":\")\n",
    "\n",
    "        if token.startswith(\"tempo\"):\n",
    "            s.append(tempo.MetronomeMark(number=float(splitToken[1])))\n",
    "\n",
    "        if token.startswith(\"timesig\"):\n",
    "            s.append(meter.TimeSignature(splitToken[1]))\n",
    "\n",
    "        if token.startswith(\"note\") and not token.endswith(\"OFF\"):\n",
    "            noteDuration = 0\n",
    "            noteName = splitToken[1]\n",
    "            noteVelocity = int(splitToken[2][1:])\n",
    "\n",
    "            for element in tokens[currentToken+1:]:\n",
    "                splitToken2 = element.split(\":\")\n",
    "                if (element.startswith(\"wait\")):\n",
    "                    noteDuration += float(splitToken2[1])\n",
    "                if (element.startswith(\"note\") and element.endswith(\"OFF\")):\n",
    "                    if (noteName == splitToken2[1]):\n",
    "                        newNote = note.Note(nameWithOctave=splitToken[1],  \n",
    "                               quarterLength=float(noteDuration))\n",
    "                        newNote.volume.velocity = int(splitToken[2][1:])\n",
    "                        s.insert(currentOffset, newNote)\n",
    "                        break\n",
    "\n",
    "        if token.startswith(\"wait\"):\n",
    "            currentOffset += float(splitToken[1]) \n",
    "\n",
    "        currentToken += 1\n",
    "\n",
    "    return s\n",
    "\n",
    "text2midi(midiTokens).show(\"midi\")"
   ]
  },
  {
   "cell_type": "code",
   "execution_count": 13,
   "metadata": {},
   "outputs": [
    {
     "name": "stdout",
     "output_type": "stream",
     "text": [
      "...................................."
     ]
    }
   ],
   "source": [
    "path = '../dataset/'\n",
    "filenames = os.listdir(path)\n",
    "\n",
    "with open(\"../dataset_text/miditokens.txt\", \"a\") as f:\n",
    "    progress = 0\n",
    "    for filename in filenames:\n",
    "        midifile = open_midi(path + filename)\n",
    "        f.write(' '.join(midi2text(midifile)) + '\\n')\n",
    "        progress += 1\n",
    "        \n",
    "        if (progress % 20 == 0):\n",
    "            print('.', end='')"
   ]
  }
 ],
 "metadata": {
  "kernelspec": {
   "display_name": "Python 3",
   "language": "python",
   "name": "python3"
  },
  "language_info": {
   "codemirror_mode": {
    "name": "ipython",
    "version": 3
   },
   "file_extension": ".py",
   "mimetype": "text/x-python",
   "name": "python",
   "nbconvert_exporter": "python",
   "pygments_lexer": "ipython3",
   "version": "3.7.3"
  }
 },
 "nbformat": 4,
 "nbformat_minor": 2
}
